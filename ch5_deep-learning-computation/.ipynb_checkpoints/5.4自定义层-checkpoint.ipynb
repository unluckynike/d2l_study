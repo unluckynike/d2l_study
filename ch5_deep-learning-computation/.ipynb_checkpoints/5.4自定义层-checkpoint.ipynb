{
 "cells": [
  {
   "cell_type": "code",
   "execution_count": 1,
   "id": "54010f05",
   "metadata": {},
   "outputs": [],
   "source": [
    "import torch \n",
    "import torch.nn.functional as F\n",
    "from torch import nn"
   ]
  },
  {
   "cell_type": "code",
   "execution_count": 25,
   "id": "dcd3a13c",
   "metadata": {},
   "outputs": [
    {
     "data": {
      "text/plain": [
       "tensor([-2., -1.,  0.,  1.,  2.])"
      ]
     },
     "execution_count": 25,
     "metadata": {},
     "output_type": "execute_result"
    }
   ],
   "source": [
    "# CenteredLayer类要从其输入中减去均值。 要构建它，只需继承基础层类并实现前向传播功能。\n",
    "\n",
    "class CenteredLayer(nn.Module):\n",
    "    def __init__(self):\n",
    "        super().__init__()\n",
    "        \n",
    "    def forward(self,X):\n",
    "        return X-X.mean()\n",
    "    \n",
    "layer=CenteredLayer()\n",
    "X=torch.FloatTensor([1,2,3,4,5])# 均值为3\n",
    "\n",
    "layer(X) # 验证是否如预期 结果为 3-每一个元素"
   ]
  },
  {
   "cell_type": "code",
   "execution_count": 26,
   "id": "3441f9dd",
   "metadata": {},
   "outputs": [
    {
     "name": "stdout",
     "output_type": "stream",
     "text": [
      "Sequential(\n",
      "  (0): Linear(in_features=8, out_features=128, bias=True)\n",
      "  (1): CenteredLayer()\n",
      ")\n"
     ]
    },
    {
     "data": {
      "text/plain": [
       "tensor(-7.4506e-09, grad_fn=<MeanBackward0>)"
      ]
     },
     "execution_count": 26,
     "metadata": {},
     "output_type": "execute_result"
    }
   ],
   "source": [
    "# 将层作为组件合并到更复杂的模型中。\n",
    "\n",
    "net=nn.Sequential(nn.Linear(8,128),\n",
    "                 CenteredLayer()\n",
    "                 )\n",
    "\n",
    "print(net)\n",
    "Y=net(torch.randn(4,8))\n",
    "Y.mean()\n"
   ]
  },
  {
   "cell_type": "code",
   "execution_count": 27,
   "id": "f7de1b76",
   "metadata": {},
   "outputs": [
    {
     "name": "stdout",
     "output_type": "stream",
     "text": [
      "MyLinear()\n"
     ]
    },
    {
     "data": {
      "text/plain": [
       "(Parameter containing:\n",
       " tensor([[ 0.6522,  0.0303,  1.1214],\n",
       "         [-0.0224,  1.8574,  0.3622],\n",
       "         [ 1.0422, -0.3849, -0.6989],\n",
       "         [-1.1314,  1.9091,  0.6286],\n",
       "         [ 0.0341, -0.3816,  0.8479]], requires_grad=True),\n",
       " Parameter containing:\n",
       " tensor([ 1.1345, -0.1159,  0.5093], requires_grad=True))"
      ]
     },
     "execution_count": 27,
     "metadata": {},
     "output_type": "execute_result"
    }
   ],
   "source": [
    "# 带参数的层 实现自定义版本的全连接层。\n",
    "# 定义具有参数的层， 这些参数可以通过训练进行调整。\n",
    "\n",
    "class MyLinear(nn.Module):\n",
    "    # in_units和units，分别表示输入数和输出数。\n",
    "    def __init__(self,in_units,units):\n",
    "        super().__init__()\n",
    "        self.weight=nn.Parameter(torch.randn(in_units,units))\n",
    "        self.bias=nn.Parameter(torch.randn(units,))\n",
    "\n",
    "        \n",
    "    def forward(self,X):\n",
    "        linear=torch.matmul(X,self.weight.data)+self.bias.data\n",
    "        return F.relu(linear)\n",
    "    \n",
    "linear=MyLinear(5,3)\n",
    "print(linear)\n",
    "linear.weight,linear.bias"
   ]
  },
  {
   "cell_type": "code",
   "execution_count": 28,
   "id": "5f26aab2",
   "metadata": {},
   "outputs": [
    {
     "data": {
      "text/plain": [
       "tensor([[1.9463, 1.2882, 1.5520],\n",
       "        [2.0596, 0.3962, 1.2614],\n",
       "        [0.8961, 2.6895, 2.1734]])"
      ]
     },
     "execution_count": 28,
     "metadata": {},
     "output_type": "execute_result"
    }
   ],
   "source": [
    "# 自定义层直接执行前向传播计算。\n",
    "linear(torch.rand(3,5))"
   ]
  },
  {
   "cell_type": "code",
   "execution_count": 35,
   "id": "fd22df67",
   "metadata": {},
   "outputs": [
    {
     "name": "stdout",
     "output_type": "stream",
     "text": [
      "Sequential(\n",
      "  (0): MyLinear()\n",
      "  (1): MyLinear()\n",
      ")\n"
     ]
    },
    {
     "data": {
      "text/plain": [
       "tensor([[2.1738],\n",
       "        [6.2272]])"
      ]
     },
     "execution_count": 35,
     "metadata": {},
     "output_type": "execute_result"
    }
   ],
   "source": [
    "# 使用自定义层构建模型，就像使用内置的全连接层一样使用自定义层\n",
    "net = nn.Sequential(MyLinear(64,8),\n",
    "                   MyLinear(8,1))\n",
    "print(net)\n",
    "X=torch.rand(2,64)\n",
    "net(X)"
   ]
  },
  {
   "cell_type": "markdown",
   "id": "49003918",
   "metadata": {},
   "source": [
    "- 我们可以通过基本层类设计自定义层。这允许我们定义灵活的新层，其行为与深度学习框架中的任何现有层不同。\n",
    "\n",
    "- 在自定义层定义完成后，我们就可以在任意环境和网络架构中调用该自定义层。\n",
    "\n",
    "- 层可以有局部参数，这些参数可以通过内置函数创建。"
   ]
  },
  {
   "cell_type": "markdown",
   "id": "b022c4c1",
   "metadata": {},
   "source": [
    "#### 5.5读写文件"
   ]
  },
  {
   "cell_type": "code",
   "execution_count": 40,
   "id": "a9f710e6",
   "metadata": {},
   "outputs": [
    {
     "data": {
      "text/plain": [
       "tensor([0, 1, 2, 3])"
      ]
     },
     "execution_count": 40,
     "metadata": {},
     "output_type": "execute_result"
    }
   ],
   "source": [
    "# 对于单个张量，我们可以直接调用load和save函数分别读写它们。 \n",
    "# 这两个函数都要求我们提供一个名称，save要求将要保存的变量作为输入\n",
    "x = torch.arange(4)\n",
    "torch.save(x,'x-file')\n",
    "x # x的值"
   ]
  },
  {
   "cell_type": "code",
   "execution_count": 39,
   "id": "931ab3cc",
   "metadata": {},
   "outputs": [
    {
     "data": {
      "text/plain": [
       "tensor([0, 1, 2, 3])"
      ]
     },
     "execution_count": 39,
     "metadata": {},
     "output_type": "execute_result"
    }
   ],
   "source": [
    "# 将存储在文件中的数据读回内存。\n",
    "x2=torch.load('x-file')\n",
    "x2 # 加载文件x的值"
   ]
  },
  {
   "cell_type": "code",
   "execution_count": 44,
   "id": "64970dfb",
   "metadata": {},
   "outputs": [
    {
     "data": {
      "text/plain": [
       "tensor([0., 0., 0., 0.])"
      ]
     },
     "execution_count": 44,
     "metadata": {},
     "output_type": "execute_result"
    }
   ],
   "source": [
    "# 存储一个张量列表，然后把它们读回内存。\n",
    "y=torch.zeros(4)\n",
    "torch.save([x,y],'x-files')\n",
    "y"
   ]
  },
  {
   "cell_type": "code",
   "execution_count": 46,
   "id": "07a31fde",
   "metadata": {},
   "outputs": [
    {
     "data": {
      "text/plain": [
       "(tensor([0, 1, 2, 3]), tensor([0., 0., 0., 0.]))"
      ]
     },
     "execution_count": 46,
     "metadata": {},
     "output_type": "execute_result"
    }
   ],
   "source": [
    "x2,y2=torch.load('x-files')\n",
    "x2,y2"
   ]
  },
  {
   "cell_type": "code",
   "execution_count": 47,
   "id": "8c5d6474",
   "metadata": {},
   "outputs": [
    {
     "data": {
      "text/plain": [
       "{'x': tensor([0, 1, 2, 3]), 'y': tensor([0., 0., 0., 0.])}"
      ]
     },
     "execution_count": 47,
     "metadata": {},
     "output_type": "execute_result"
    }
   ],
   "source": [
    "# 写入或读取从字符串映射到张量的字典。 当我们要读取或写入模型中的所有权重时\n",
    "mydict={'x':x,'y':y}\n",
    "torch.save(mydict,'mydict')\n",
    "mydict"
   ]
  },
  {
   "cell_type": "code",
   "execution_count": 48,
   "id": "d7e77010",
   "metadata": {},
   "outputs": [
    {
     "data": {
      "text/plain": [
       "{'x': tensor([0, 1, 2, 3]), 'y': tensor([0., 0., 0., 0.])}"
      ]
     },
     "execution_count": 48,
     "metadata": {},
     "output_type": "execute_result"
    }
   ],
   "source": [
    "# 读的文件\n",
    "mydict2=torch.load('mydict')\n",
    "mydict2"
   ]
  },
  {
   "cell_type": "code",
   "execution_count": 53,
   "id": "a425aeb5",
   "metadata": {},
   "outputs": [
    {
     "name": "stdout",
     "output_type": "stream",
     "text": [
      "MLP(\n",
      "  (hidden): Linear(in_features=20, out_features=256, bias=True)\n",
      "  (output): Linear(in_features=256, out_features=10, bias=True)\n",
      ")\n"
     ]
    },
    {
     "data": {
      "text/plain": [
       "tensor([[-0.1293, -0.1420, -0.2753,  0.1390,  0.1589,  0.1639,  0.0121,  0.1962,\n",
       "          0.0997, -0.1100],\n",
       "        [ 0.1797, -0.4675,  0.0135, -0.2783,  0.1836, -0.2104, -0.1988,  0.2269,\n",
       "         -0.0618,  0.1166]], grad_fn=<AddmmBackward0>)"
      ]
     },
     "execution_count": 53,
     "metadata": {},
     "output_type": "execute_result"
    }
   ],
   "source": [
    "# 加载和保存模型参数\n",
    "class MLP(nn.Module):\n",
    "    def __init__(self):\n",
    "        super().__init__()\n",
    "        self.hidden=nn.Linear(20,256)\n",
    "        self.output=nn.Linear(256,10)\n",
    "    \n",
    "    def forward(self,x):\n",
    "        return self.output(F.relu(self.hidden(x)))\n",
    "    \n",
    "net = MLP()\n",
    "print(net)\n",
    "X=torch.randn(size=(2,20))\n",
    "Y=net(X)\n",
    "Y"
   ]
  },
  {
   "cell_type": "code",
   "execution_count": 54,
   "id": "f350f021",
   "metadata": {},
   "outputs": [],
   "source": [
    "# 模型的参数存储在一个叫做“mlp.params”的文件中\n",
    "torch.save(net.state_dict(),'mlp.params')"
   ]
  },
  {
   "cell_type": "code",
   "execution_count": 59,
   "id": "28dbd3ec",
   "metadata": {},
   "outputs": [
    {
     "data": {
      "text/plain": [
       "MLP(\n",
       "  (hidden): Linear(in_features=20, out_features=256, bias=True)\n",
       "  (output): Linear(in_features=256, out_features=10, bias=True)\n",
       ")"
      ]
     },
     "execution_count": 59,
     "metadata": {},
     "output_type": "execute_result"
    }
   ],
   "source": [
    "# 加载\n",
    "clone = MLP()\n",
    "clone.load_state_dict(torch.load('mlp.params'))\n",
    "clone.eval()"
   ]
  },
  {
   "cell_type": "code",
   "execution_count": 62,
   "id": "000c42f3",
   "metadata": {},
   "outputs": [
    {
     "data": {
      "text/plain": [
       "tensor([[-0.1293, -0.1420, -0.2753,  0.1390,  0.1589,  0.1639,  0.0121,  0.1962,\n",
       "          0.0997, -0.1100],\n",
       "        [ 0.1797, -0.4675,  0.0135, -0.2783,  0.1836, -0.2104, -0.1988,  0.2269,\n",
       "         -0.0618,  0.1166]], grad_fn=<AddmmBackward0>)"
      ]
     },
     "execution_count": 62,
     "metadata": {},
     "output_type": "execute_result"
    }
   ],
   "source": [
    "# 两个实例具有相同的模型参数，在输入相同的X时， 两个实例的计算结果应该相同\n",
    "clone(X)"
   ]
  },
  {
   "cell_type": "code",
   "execution_count": 61,
   "id": "c64c5d03",
   "metadata": {},
   "outputs": [
    {
     "data": {
      "text/plain": [
       "tensor([[True, True, True, True, True, True, True, True, True, True],\n",
       "        [True, True, True, True, True, True, True, True, True, True]])"
      ]
     },
     "execution_count": 61,
     "metadata": {},
     "output_type": "execute_result"
    }
   ],
   "source": [
    "clone(X)==Y"
   ]
  },
  {
   "cell_type": "markdown",
   "id": "9f7e20f2",
   "metadata": {},
   "source": [
    "- save和load函数可用于张量对象的文件读写。\n",
    "\n",
    "- 我们可以通过参数字典保存和加载网络的全部参数。\n",
    "\n",
    "- 保存架构必须在代码中完成，而不是在参数中完成。"
   ]
  },
  {
   "cell_type": "code",
   "execution_count": null,
   "id": "893a73f8",
   "metadata": {},
   "outputs": [],
   "source": []
  },
  {
   "cell_type": "code",
   "execution_count": null,
   "id": "84bfbd2a",
   "metadata": {},
   "outputs": [],
   "source": []
  }
 ],
 "metadata": {
  "kernelspec": {
   "display_name": "Python 3 (ipykernel)",
   "language": "python",
   "name": "python3"
  },
  "language_info": {
   "codemirror_mode": {
    "name": "ipython",
    "version": 3
   },
   "file_extension": ".py",
   "mimetype": "text/x-python",
   "name": "python",
   "nbconvert_exporter": "python",
   "pygments_lexer": "ipython3",
   "version": "3.8.13"
  }
 },
 "nbformat": 4,
 "nbformat_minor": 5
}
