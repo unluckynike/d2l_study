{
 "cells": [
  {
   "cell_type": "code",
   "execution_count": 1,
   "id": "54010f05",
   "metadata": {},
   "outputs": [],
   "source": [
    "import torch \n",
    "import torch.nn.functional as F\n",
    "from torch import nn"
   ]
  },
  {
   "cell_type": "code",
   "execution_count": 25,
   "id": "e3522c50",
   "metadata": {},
   "outputs": [
    {
     "data": {
      "text/plain": [
       "tensor([-2., -1.,  0.,  1.,  2.])"
      ]
     },
     "execution_count": 25,
     "metadata": {},
     "output_type": "execute_result"
    }
   ],
   "source": [
    "# CenteredLayer类要从其输入中减去均值。 要构建它，只需继承基础层类并实现前向传播功能。\n",
    "\n",
    "class CenteredLayer(nn.Module):\n",
    "    def __init__(self):\n",
    "        super().__init__()\n",
    "        \n",
    "    def forward(self,X):\n",
    "        return X-X.mean()\n",
    "    \n",
    "layer=CenteredLayer()\n",
    "X=torch.FloatTensor([1,2,3,4,5])# 均值为3\n",
    "\n",
    "layer(X) # 验证是否如预期 结果为 3-每一个元素"
   ]
  },
  {
   "cell_type": "code",
   "execution_count": 26,
   "id": "ea37680b",
   "metadata": {},
   "outputs": [
    {
     "name": "stdout",
     "output_type": "stream",
     "text": [
      "Sequential(\n",
      "  (0): Linear(in_features=8, out_features=128, bias=True)\n",
      "  (1): CenteredLayer()\n",
      ")\n"
     ]
    },
    {
     "data": {
      "text/plain": [
       "tensor(-7.4506e-09, grad_fn=<MeanBackward0>)"
      ]
     },
     "execution_count": 26,
     "metadata": {},
     "output_type": "execute_result"
    }
   ],
   "source": [
    "# 将层作为组件合并到更复杂的模型中。\n",
    "\n",
    "net=nn.Sequential(nn.Linear(8,128),\n",
    "                 CenteredLayer()\n",
    "                 )\n",
    "\n",
    "print(net)\n",
    "Y=net(torch.randn(4,8))\n",
    "Y.mean()\n"
   ]
  },
  {
   "cell_type": "code",
   "execution_count": 27,
   "id": "03bd82dc",
   "metadata": {},
   "outputs": [
    {
     "name": "stdout",
     "output_type": "stream",
     "text": [
      "MyLinear()\n"
     ]
    },
    {
     "data": {
      "text/plain": [
       "(Parameter containing:\n",
       " tensor([[ 0.6522,  0.0303,  1.1214],\n",
       "         [-0.0224,  1.8574,  0.3622],\n",
       "         [ 1.0422, -0.3849, -0.6989],\n",
       "         [-1.1314,  1.9091,  0.6286],\n",
       "         [ 0.0341, -0.3816,  0.8479]], requires_grad=True),\n",
       " Parameter containing:\n",
       " tensor([ 1.1345, -0.1159,  0.5093], requires_grad=True))"
      ]
     },
     "execution_count": 27,
     "metadata": {},
     "output_type": "execute_result"
    }
   ],
   "source": [
    "# 带参数的层 实现自定义版本的全连接层。\n",
    "# 定义具有参数的层， 这些参数可以通过训练进行调整。\n",
    "\n",
    "class MyLinear(nn.Module):\n",
    "    # in_units和units，分别表示输入数和输出数。\n",
    "    def __init__(self,in_units,units):\n",
    "        super().__init__()\n",
    "        self.weight=nn.Parameter(torch.randn(in_units,units))\n",
    "        self.bias=nn.Parameter(torch.randn(units,))\n",
    "\n",
    "        \n",
    "    def forward(self,X):\n",
    "        linear=torch.matmul(X,self.weight.data)+self.bias.data\n",
    "        return F.relu(linear)\n",
    "    \n",
    "linear=MyLinear(5,3)\n",
    "print(linear)\n",
    "linear.weight,linear.bias"
   ]
  },
  {
   "cell_type": "code",
   "execution_count": 28,
   "id": "74218401",
   "metadata": {},
   "outputs": [
    {
     "data": {
      "text/plain": [
       "tensor([[1.9463, 1.2882, 1.5520],\n",
       "        [2.0596, 0.3962, 1.2614],\n",
       "        [0.8961, 2.6895, 2.1734]])"
      ]
     },
     "execution_count": 28,
     "metadata": {},
     "output_type": "execute_result"
    }
   ],
   "source": [
    "# 自定义层直接执行前向传播计算。\n",
    "linear(torch.rand(3,5))"
   ]
  },
  {
   "cell_type": "code",
   "execution_count": 35,
   "id": "2cac012d",
   "metadata": {},
   "outputs": [
    {
     "name": "stdout",
     "output_type": "stream",
     "text": [
      "Sequential(\n",
      "  (0): MyLinear()\n",
      "  (1): MyLinear()\n",
      ")\n"
     ]
    },
    {
     "data": {
      "text/plain": [
       "tensor([[2.1738],\n",
       "        [6.2272]])"
      ]
     },
     "execution_count": 35,
     "metadata": {},
     "output_type": "execute_result"
    }
   ],
   "source": [
    "# 使用自定义层构建模型，就像使用内置的全连接层一样使用自定义层\n",
    "net = nn.Sequential(MyLinear(64,8),\n",
    "                   MyLinear(8,1))\n",
    "print(net)\n",
    "X=torch.rand(2,64)\n",
    "net(X)"
   ]
  },
  {
   "cell_type": "markdown",
   "id": "f2f615bf",
   "metadata": {},
   "source": [
    "我们可以通过基本层类设计自定义层。这允许我们定义灵活的新层，其行为与深度学习框架中的任何现有层不同。\n",
    "\n",
    "在自定义层定义完成后，我们就可以在任意环境和网络架构中调用该自定义层。\n",
    "\n",
    "层可以有局部参数，这些参数可以通过内置函数创建。"
   ]
  },
  {
   "cell_type": "code",
   "execution_count": null,
   "id": "085c0245",
   "metadata": {},
   "outputs": [],
   "source": []
  },
  {
   "cell_type": "code",
   "execution_count": null,
   "id": "3657388e",
   "metadata": {},
   "outputs": [],
   "source": []
  },
  {
   "cell_type": "code",
   "execution_count": null,
   "id": "fdfd21e1",
   "metadata": {},
   "outputs": [],
   "source": []
  },
  {
   "cell_type": "code",
   "execution_count": null,
   "id": "0bcb21d5",
   "metadata": {},
   "outputs": [],
   "source": []
  },
  {
   "cell_type": "code",
   "execution_count": null,
   "id": "5bf05060",
   "metadata": {},
   "outputs": [],
   "source": []
  },
  {
   "cell_type": "code",
   "execution_count": null,
   "id": "fca2b72d",
   "metadata": {},
   "outputs": [],
   "source": []
  },
  {
   "cell_type": "code",
   "execution_count": null,
   "id": "d6b662b2",
   "metadata": {},
   "outputs": [],
   "source": []
  },
  {
   "cell_type": "code",
   "execution_count": null,
   "id": "c7fd8685",
   "metadata": {},
   "outputs": [],
   "source": []
  }
 ],
 "metadata": {
  "kernelspec": {
   "display_name": "Python 3 (ipykernel)",
   "language": "python",
   "name": "python3"
  },
  "language_info": {
   "codemirror_mode": {
    "name": "ipython",
    "version": 3
   },
   "file_extension": ".py",
   "mimetype": "text/x-python",
   "name": "python",
   "nbconvert_exporter": "python",
   "pygments_lexer": "ipython3",
   "version": "3.8.13"
  }
 },
 "nbformat": 4,
 "nbformat_minor": 5
}
