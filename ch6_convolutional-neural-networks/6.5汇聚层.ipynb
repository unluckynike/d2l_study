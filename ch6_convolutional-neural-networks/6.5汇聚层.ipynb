{
 "cells": [
  {
   "cell_type": "markdown",
   "id": "de64416b",
   "metadata": {},
   "source": [
    "聚（pooling）层，它具有双重目的：降低卷积层对位置的敏感性，同时降低对空间降采样表示的敏感性。"
   ]
  },
  {
   "cell_type": "code",
   "execution_count": null,
   "id": "b64a7e4e",
   "metadata": {},
   "outputs": [],
   "source": [
    "# 最大池化 maximum pooling   平均池化 average pooling"
   ]
  },
  {
   "cell_type": "markdown",
   "id": "5efb9ab6",
   "metadata": {},
   "source": [
    "- 对于给定输入元素，最大汇聚层会输出该窗口内的最大值，平均汇聚层会输出该窗口内的平均值。\n",
    "\n",
    "- 汇聚层的主要优点之一是减轻卷积层对位置的过度敏感。"
   ]
  },
  {
   "cell_type": "markdown",
   "id": "b2904fda",
   "metadata": {},
   "source": []
  },
  {
   "cell_type": "code",
   "execution_count": null,
   "id": "a7e604e2",
   "metadata": {},
   "outputs": [],
   "source": []
  },
  {
   "cell_type": "code",
   "execution_count": null,
   "id": "5c570908",
   "metadata": {},
   "outputs": [],
   "source": []
  }
 ],
 "metadata": {
  "kernelspec": {
   "display_name": "Python 3 (ipykernel)",
   "language": "python",
   "name": "python3"
  },
  "language_info": {
   "codemirror_mode": {
    "name": "ipython",
    "version": 3
   },
   "file_extension": ".py",
   "mimetype": "text/x-python",
   "name": "python",
   "nbconvert_exporter": "python",
   "pygments_lexer": "ipython3",
   "version": "3.8.13"
  }
 },
 "nbformat": 4,
 "nbformat_minor": 5
}
