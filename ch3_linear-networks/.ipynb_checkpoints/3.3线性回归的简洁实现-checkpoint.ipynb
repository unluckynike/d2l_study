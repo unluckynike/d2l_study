{
 "cells": [
  {
   "cell_type": "code",
   "execution_count": 1,
   "id": "8166dcc1",
   "metadata": {},
   "outputs": [],
   "source": [
    "import numpy as py\n",
    "import torch\n",
    "from torch.utils import data\n",
    "from d2l import torch as d2l"
   ]
  },
  {
   "cell_type": "code",
   "execution_count": 2,
   "id": "f47b0249",
   "metadata": {},
   "outputs": [],
   "source": [
    "# 生成数据集 同3.2\n",
    "true_w=torch.tensor([2,-3.4])\n",
    "true_b=4.2\n",
    "features,labels=d2l.synthetic_data(true_w,true_b,1000) # 3.2定义的 自创建数据集方法"
   ]
  },
  {
   "cell_type": "markdown",
   "id": "7079dbd3",
   "metadata": {},
   "source": [
    "我们可以调用框架中现有的API来读取数据。 我们将features和labels作为API的参数传递，并通过数据迭代器指定batch_size。 此外，布尔值is_train表示是否希望数据迭代器对象在每个迭代周期内打乱数据。"
   ]
  },
  {
   "cell_type": "code",
   "execution_count": 8,
   "id": "842f54e1",
   "metadata": {},
   "outputs": [],
   "source": [
    "# 读取数据集\n",
    "def load_array(data_arrays,batch_size,is_train=True):   #@save\n",
    "    \"\"\"构造一个PyTorch数据迭代器\"\"\"\n",
    "    dataset=data.TensorDataset(*data_arrays)\n",
    "    return data.DataLoader(dataset,batch_size,shuffle=is_train)\n",
    "\n",
    "batch_size=10\n",
    "data_iter=load_array((features,labels),batch_size)"
   ]
  },
  {
   "cell_type": "code",
   "execution_count": 9,
   "id": "a2713a01",
   "metadata": {},
   "outputs": [
    {
     "data": {
      "text/plain": [
       "[tensor([[-0.3570,  0.2711],\n",
       "         [ 1.3399, -1.6859],\n",
       "         [-0.0669, -0.0995],\n",
       "         [-0.2711,  0.3283],\n",
       "         [ 0.7106, -0.0074],\n",
       "         [-0.3459,  0.3279],\n",
       "         [ 0.6698,  0.3233],\n",
       "         [-0.5220,  1.6990],\n",
       "         [-0.5329,  0.9359],\n",
       "         [ 3.4752,  1.5065]]),\n",
       " tensor([[ 2.5660],\n",
       "         [12.6264],\n",
       "         [ 4.3871],\n",
       "         [ 2.5602],\n",
       "         [ 5.6514],\n",
       "         [ 2.3862],\n",
       "         [ 4.4392],\n",
       "         [-2.6215],\n",
       "         [-0.0541],\n",
       "         [ 6.0173]])]"
      ]
     },
     "execution_count": 9,
     "metadata": {},
     "output_type": "execute_result"
    }
   ],
   "source": [
    "next(iter(data_iter)) # batch是10所以各是10组"
   ]
  },
  {
   "cell_type": "code",
   "execution_count": 16,
   "id": "c7012e40",
   "metadata": {},
   "outputs": [],
   "source": [
    "# 初始化模型\n",
    "from torch import nn\n",
    "\n",
    "# 两个参数传递到nn.Linear中。 第一个指定输入特征形状，即2，第二个指定输出特征形状，输出特征形状为单个标量，因此为1。\n",
    "net=nn.Sequential(nn.Linear(2,1))"
   ]
  },
  {
   "cell_type": "code",
   "execution_count": 17,
   "id": "4b54194c",
   "metadata": {},
   "outputs": [
    {
     "data": {
      "text/plain": [
       "tensor([0.])"
      ]
     },
     "execution_count": 17,
     "metadata": {},
     "output_type": "execute_result"
    }
   ],
   "source": [
    "# 初始化模型参数\n",
    "# 深度学习框架通常有预定义的方法来初始化参数。 在这里，我们指定每个权重参数应该从均值为0、标准差为0.01的正态分布中随机采样， 偏置参数将初始化为零。\n",
    "net[0].weight.data.normal_(0,0.01)\n",
    "net[0].bias.data.fill_(0)"
   ]
  },
  {
   "cell_type": "code",
   "execution_count": 26,
   "id": "951bda14",
   "metadata": {},
   "outputs": [],
   "source": [
    "# 定义损失函数\n",
    "loss=nn.MSELoss()\n",
    "\n",
    "# 定义优化算法\n",
    "trainer=torch.optim.SGD(net.parameters(),lr=0.3)"
   ]
  },
  {
   "cell_type": "code",
   "execution_count": 28,
   "id": "1a51443f",
   "metadata": {},
   "outputs": [
    {
     "name": "stdout",
     "output_type": "stream",
     "text": [
      "epoch: 1 loss:0.000104\n",
      "epoch: 2 loss:0.000100\n",
      "epoch: 3 loss:0.000142\n",
      "epoch: 4 loss:0.000157\n",
      "epoch: 5 loss:0.000114\n"
     ]
    }
   ],
   "source": [
    "# 训练\n",
    "num_epochs=5\n",
    "\n",
    "for epoch in range(num_epochs):\n",
    "    for X,y in data_iter:\n",
    "        l=loss(net(X),y)\n",
    "        trainer.zero_grad()\n",
    "        l.backward()\n",
    "        trainer.step()\n",
    "    l=loss(net(features),labels)\n",
    "    print(f'epoch: {epoch+1} loss:{l:f}')"
   ]
  },
  {
   "cell_type": "code",
   "execution_count": 33,
   "id": "f234d5d1",
   "metadata": {},
   "outputs": [],
   "source": [
    "w=net[0].weight.data\n",
    "b=net[0].bias.data"
   ]
  },
  {
   "cell_type": "code",
   "execution_count": 35,
   "id": "cb73b71b",
   "metadata": {},
   "outputs": [
    {
     "data": {
      "text/plain": [
       "(tensor([ 2.0000, -3.4000]), tensor([[ 2.0002, -3.4012]]))"
      ]
     },
     "execution_count": 35,
     "metadata": {},
     "output_type": "execute_result"
    }
   ],
   "source": [
    "true_w,  w # 真实值与预估值"
   ]
  },
  {
   "cell_type": "code",
   "execution_count": 36,
   "id": "2904cf40",
   "metadata": {},
   "outputs": [
    {
     "data": {
      "text/plain": [
       "(4.2, tensor([4.1961]))"
      ]
     },
     "execution_count": 36,
     "metadata": {},
     "output_type": "execute_result"
    }
   ],
   "source": [
    "true_b, b"
   ]
  },
  {
   "cell_type": "code",
   "execution_count": null,
   "id": "79b3a6ad",
   "metadata": {},
   "outputs": [],
   "source": []
  },
  {
   "cell_type": "code",
   "execution_count": null,
   "id": "0b01d3ff",
   "metadata": {},
   "outputs": [],
   "source": []
  }
 ],
 "metadata": {
  "kernelspec": {
   "display_name": "Python 3 (ipykernel)",
   "language": "python",
   "name": "python3"
  },
  "language_info": {
   "codemirror_mode": {
    "name": "ipython",
    "version": 3
   },
   "file_extension": ".py",
   "mimetype": "text/x-python",
   "name": "python",
   "nbconvert_exporter": "python",
   "pygments_lexer": "ipython3",
   "version": "3.8.13"
  }
 },
 "nbformat": 4,
 "nbformat_minor": 5
}
