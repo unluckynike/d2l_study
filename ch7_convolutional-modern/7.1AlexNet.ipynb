{
 "cells": [
  {
   "cell_type": "markdown",
   "id": "05804852",
   "metadata": {},
   "source": [
    "AlexNet由八层组成：五个卷积层、两个全连接隐藏层和一个全连接输出层。 其次，AlexNet使用ReLU而不是sigmoid作为其激活函数。"
   ]
  },
  {
   "cell_type": "code",
   "execution_count": 1,
   "id": "358b2437",
   "metadata": {},
   "outputs": [],
   "source": [
    "import torch\n",
    "from torch import nn\n",
    "from d2l import torch as d2l"
   ]
  },
  {
   "cell_type": "code",
   "execution_count": 2,
   "id": "e72581c9",
   "metadata": {},
   "outputs": [
    {
     "name": "stdout",
     "output_type": "stream",
     "text": [
      "Conv2d output shape:\t  torch.Size([1, 96, 54, 54])\n",
      "ReLU output shape:\t  torch.Size([1, 96, 54, 54])\n",
      "MaxPool2d output shape:\t  torch.Size([1, 96, 26, 26])\n",
      "Conv2d output shape:\t  torch.Size([1, 256, 26, 26])\n",
      "ReLU output shape:\t  torch.Size([1, 256, 26, 26])\n",
      "MaxPool2d output shape:\t  torch.Size([1, 256, 12, 12])\n",
      "Conv2d output shape:\t  torch.Size([1, 384, 12, 12])\n",
      "ReLU output shape:\t  torch.Size([1, 384, 12, 12])\n",
      "Conv2d output shape:\t  torch.Size([1, 384, 12, 12])\n",
      "ReLU output shape:\t  torch.Size([1, 384, 12, 12])\n",
      "Conv2d output shape:\t  torch.Size([1, 256, 12, 12])\n",
      "ReLU output shape:\t  torch.Size([1, 256, 12, 12])\n",
      "MaxPool2d output shape:\t  torch.Size([1, 256, 5, 5])\n",
      "Flatten output shape:\t  torch.Size([1, 6400])\n",
      "Linear output shape:\t  torch.Size([1, 4096])\n",
      "ReLU output shape:\t  torch.Size([1, 4096])\n",
      "Dropout output shape:\t  torch.Size([1, 4096])\n",
      "Linear output shape:\t  torch.Size([1, 4096])\n",
      "ReLU output shape:\t  torch.Size([1, 4096])\n",
      "Dropout output shape:\t  torch.Size([1, 4096])\n",
      "Linear output shape:\t  torch.Size([1, 10])\n"
     ]
    }
   ],
   "source": [
    "net = nn.Sequential(nn.Conv2d(1,96,kernel_size=11,stride=4,padding=1),\n",
    "                   nn.ReLU(),\n",
    "                   nn.MaxPool2d(kernel_size=3,stride=2),\n",
    "                   \n",
    "                   nn.Conv2d(96,256,kernel_size=5,padding=2),\n",
    "                   nn.ReLU(),\n",
    "                   nn.MaxPool2d(kernel_size=3,stride=2),\n",
    "                    \n",
    "                   nn.Conv2d(256,384,kernel_size=3,padding=1),\n",
    "                   nn.ReLU(), \n",
    "                   nn.Conv2d(384,384,kernel_size=3,padding=1),\n",
    "                   nn.ReLU(), \n",
    "                   nn.Conv2d(384,256,kernel_size=3,padding=1),\n",
    "                   nn.ReLU(),\n",
    "                   nn.MaxPool2d(kernel_size=3,stride=2),\n",
    "                #  使用dropout层来减轻过拟合\n",
    "                   nn.Flatten(), \n",
    "                   nn.Linear(6400,4096), # why 6400   256*5*5\n",
    "                   nn.ReLU(),\n",
    "                   nn.Dropout(p=0.5), \n",
    "                   nn.Linear(4096,4096),\n",
    "                   nn.ReLU(),\n",
    "                   nn.Dropout(p=0.5), \n",
    "                #  最后是输出层。由于这里使用Fashion-MNIST，所以用类别数为10，而非论文中的1000\n",
    "                   nn.Linear(4096,10) \n",
    "                   )\n",
    "\n",
    "# 造一个高度和宽度都为224的单通道数据，来观察每一层输出的形状\n",
    "X=torch.randn(1,1,224,224)\n",
    "for layer in net:\n",
    "    X=layer(X)\n",
    "    print(layer.__class__.__name__,'output shape:\\t ',X.shape)"
   ]
  },
  {
   "cell_type": "code",
   "execution_count": 3,
   "id": "c8507fb7",
   "metadata": {},
   "outputs": [],
   "source": [
    "batch_size,lr,num_epochs=128,0.01,10\n",
    "\n",
    "# device=torch.device('mps')\n",
    "device=torch.device('cpu')\n",
    "\n",
    "# Fashion-MNIST图像的分辨率 28 x 28（像素）低于ImageNet图像。\n",
    "# 将它们增加到224 x 224\n",
    "train_iter,test_iter=d2l.load_data_fashion_mnist(batch_size,resize=224)"
   ]
  },
  {
   "cell_type": "code",
   "execution_count": null,
   "id": "07b0d348",
   "metadata": {},
   "outputs": [
    {
     "name": "stdout",
     "output_type": "stream",
     "text": [
      "training on cpu\n"
     ]
    }
   ],
   "source": [
    "d2l.train_ch6(net,train_iter,test_iter,num_epochs,lr,device)"
   ]
  },
  {
   "cell_type": "markdown",
   "id": "a03dc1e5",
   "metadata": {},
   "source": [
    "- AlexNet的架构与LeNet相似，但使用了更多的卷积层和更多的参数来拟合大规模的ImageNet数据集。\n",
    "\n",
    "- 今天，AlexNet已经被更有效的架构所超越，但它是从浅层网络到深层网络的关键一步。\n",
    "\n",
    "- 尽管AlexNet的代码只比LeNet多出几行，但学术界花了很多年才接受深度学习这一概念，并应用其出色的实验结果。这也是由于缺乏有效的计算工具。\n",
    "\n",
    "- Dropout、ReLU和预处理是提升计算机视觉任务性能的其他关键步骤。"
   ]
  },
  {
   "cell_type": "code",
   "execution_count": null,
   "id": "25cb03df",
   "metadata": {},
   "outputs": [],
   "source": []
  },
  {
   "cell_type": "code",
   "execution_count": null,
   "id": "ee399a5e",
   "metadata": {},
   "outputs": [],
   "source": []
  },
  {
   "cell_type": "code",
   "execution_count": null,
   "id": "45e6d499",
   "metadata": {},
   "outputs": [],
   "source": []
  },
  {
   "cell_type": "code",
   "execution_count": null,
   "id": "38e5c6dc",
   "metadata": {},
   "outputs": [],
   "source": []
  },
  {
   "cell_type": "code",
   "execution_count": null,
   "id": "3dcc11e2",
   "metadata": {},
   "outputs": [],
   "source": []
  },
  {
   "cell_type": "code",
   "execution_count": null,
   "id": "5daf1ea6",
   "metadata": {},
   "outputs": [],
   "source": []
  },
  {
   "cell_type": "code",
   "execution_count": null,
   "id": "28bf9f7d",
   "metadata": {},
   "outputs": [],
   "source": []
  },
  {
   "cell_type": "code",
   "execution_count": null,
   "id": "ab1ce4ee",
   "metadata": {},
   "outputs": [],
   "source": []
  },
  {
   "cell_type": "code",
   "execution_count": null,
   "id": "484bb721",
   "metadata": {},
   "outputs": [],
   "source": []
  },
  {
   "cell_type": "code",
   "execution_count": null,
   "id": "231fbf55",
   "metadata": {},
   "outputs": [],
   "source": []
  },
  {
   "cell_type": "code",
   "execution_count": null,
   "id": "7aac4927",
   "metadata": {},
   "outputs": [],
   "source": []
  }
 ],
 "metadata": {
  "kernelspec": {
   "display_name": "Python 3 (ipykernel)",
   "language": "python",
   "name": "python3"
  },
  "language_info": {
   "codemirror_mode": {
    "name": "ipython",
    "version": 3
   },
   "file_extension": ".py",
   "mimetype": "text/x-python",
   "name": "python",
   "nbconvert_exporter": "python",
   "pygments_lexer": "ipython3",
   "version": "3.8.13"
  }
 },
 "nbformat": 4,
 "nbformat_minor": 5
}
